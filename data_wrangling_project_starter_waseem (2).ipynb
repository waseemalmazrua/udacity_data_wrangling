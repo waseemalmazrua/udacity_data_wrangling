{
 "cells": [
  {
   "cell_type": "markdown",
   "metadata": {
    "id": "GNIwe5N7s0e_"
   },
   "source": [
    "# Real-world Data Wrangling"
   ]
  },
  {
   "cell_type": "markdown",
   "metadata": {
    "id": "_BG63Tpg8ep_"
   },
   "source": [
    "In this project, you will apply the skills you acquired in the course to gather and wrangle real-world data with two datasets of your choice.\n",
    "\n",
    "You will retrieve and extract the data, assess the data programmatically and visually, accross elements of data quality and structure, and implement a cleaning strategy for the data. You will then store the updated data into your selected database/data store, combine the data, and answer a research question with the datasets.\n",
    "\n",
    "Throughout the process, you are expected to:\n",
    "\n",
    "1. Explain your decisions towards methods used for gathering, assessing, cleaning, storing, and answering the research question\n",
    "2. Write code comments so your code is more readable"
   ]
  },
  {
   "cell_type": "markdown",
   "metadata": {
    "id": "lDYDkH-Zs7Nn"
   },
   "source": [
    "## 1. Gather data\n",
    "\n",
    "In this section, you will extract data using two different data gathering methods and combine the data. Use at least two different types of data-gathering methods."
   ]
  },
  {
   "cell_type": "markdown",
   "metadata": {
    "id": "LbN7z7rcuqpO"
   },
   "source": [
    "### **1.1.** Problem Statement\n",
    "In 2-4 sentences, explain the kind of problem you want to look at and the datasets you will be wrangling for this project."
   ]
  },
  {
   "cell_type": "markdown",
   "metadata": {
    "id": "gi6swhjSYqu2"
   },
   "source": [
    "\n",
    "## In this project, I aim to analyze a dataset of popular TV shows by combining two sources:\n",
    "- A manually downloaded IMDb dataset containing show titles, years, genres, and ratings.\n",
    "- Additional metadata retrieved using the OMDb API including box office revenue and IMDb links.\n",
    "\n",
    "The goal is to explore patterns in show characteristics such as rating distribution, genre frequency, and temporal trends, as well as to identify data quality issues (e.g., missing values, duplicates) and resolve them programmatically. Insights will be drawn using visualizations and summary statistics.\n"
   ]
  },
  {
   "cell_type": "markdown",
   "metadata": {
    "id": "8AQfBAdUypMm"
   },
   "source": [
    "### **1.2.** Gather at least two datasets using two different data gathering methods\n",
    "\n",
    "List of data gathering methods:\n",
    "\n",
    "- Download data manually\n",
    "- Programmatically downloading files\n",
    "- Gather data by accessing APIs\n",
    "- Gather and extract data from HTML files using BeautifulSoup\n",
    "- Extract data from a SQL database\n",
    "\n",
    "Each dataset must have at least two variables, and have greater than 500 data samples within each dataset.\n",
    "\n",
    "For each dataset, briefly describe why you picked the dataset and the gathering method (2-3 full sentences), including the names and significance of the variables in the dataset. Show your work (e.g., if using an API to download the data, please include a snippet of your code). \n",
    "\n",
    "Load the dataset programmtically into this notebook."
   ]
  },
  {
   "cell_type": "markdown",
   "metadata": {
    "id": "7e6gS0wL1KTu"
   },
   "source": [
    "#### **Dataset 1**\n",
    "\n",
    "Type: CSV file\n",
    "\n",
    "Method: The dataset was manually downloaded from a public source (Kaggle) \n",
    "\n",
    "Dataset variables:\n",
    "\n",
    "*   *`primaryTitle`: The name of the TV show* \n",
    "*   *averageRating`: The average IMDb user rating for the show*\n",
    "\n",
    "### Dataset Brief\n",
    "The dataset contains information about the top 5000 TV shows on IMDb, including title, release year, genre, rating, votes, and key personnel like directors and stars. It was selected because it offers a rich mix of categorical and numerical features, making it ideal for practicing data cleaning, transformation, and exploratory analysis on real-world entertainment data."
   ]
  },
  {
   "cell_type": "code",
   "execution_count": 46,
   "metadata": {
    "id": "Su8E0uLuYkHU"
   },
   "outputs": [
    {
     "data": {
      "text/html": [
       "<div>\n",
       "<style scoped>\n",
       "    .dataframe tbody tr th:only-of-type {\n",
       "        vertical-align: middle;\n",
       "    }\n",
       "\n",
       "    .dataframe tbody tr th {\n",
       "        vertical-align: top;\n",
       "    }\n",
       "\n",
       "    .dataframe thead th {\n",
       "        text-align: right;\n",
       "    }\n",
       "</style>\n",
       "<table border=\"1\" class=\"dataframe\">\n",
       "  <thead>\n",
       "    <tr style=\"text-align: right;\">\n",
       "      <th></th>\n",
       "      <th>tconst</th>\n",
       "      <th>primaryTitle</th>\n",
       "      <th>startYear</th>\n",
       "      <th>endYear</th>\n",
       "      <th>rank</th>\n",
       "      <th>averageRating</th>\n",
       "      <th>numVotes</th>\n",
       "      <th>directors</th>\n",
       "      <th>writers</th>\n",
       "      <th>genres</th>\n",
       "      <th>IMDbLink</th>\n",
       "      <th>Title_IMDb_Link</th>\n",
       "    </tr>\n",
       "  </thead>\n",
       "  <tbody>\n",
       "    <tr>\n",
       "      <th>0</th>\n",
       "      <td>tt0903747</td>\n",
       "      <td>Breaking Bad</td>\n",
       "      <td>2008</td>\n",
       "      <td>2013.0</td>\n",
       "      <td>1</td>\n",
       "      <td>9.5</td>\n",
       "      <td>2337473</td>\n",
       "      <td>Michelle MacLaren, Adam Bernstein, Vince Gilli...</td>\n",
       "      <td>Vince Gilligan, Peter Gould, George Mastras, S...</td>\n",
       "      <td>Crime, Drama, Thriller</td>\n",
       "      <td>&lt;a href=\"https://www.imdb.com/title/tt0903747\"...</td>\n",
       "      <td>&lt;a href=\"https://www.imdb.com/title/tt0903747\"...</td>\n",
       "    </tr>\n",
       "    <tr>\n",
       "      <th>1</th>\n",
       "      <td>tt0185906</td>\n",
       "      <td>Band of Brothers</td>\n",
       "      <td>2001</td>\n",
       "      <td>2001.0</td>\n",
       "      <td>2</td>\n",
       "      <td>9.4</td>\n",
       "      <td>563157</td>\n",
       "      <td>David Frankel, Mikael Salomon, Tom Hanks, Davi...</td>\n",
       "      <td>Stephen Ambrose, Erik Bork, E. Max Frye, Tom H...</td>\n",
       "      <td>Action, Drama, History</td>\n",
       "      <td>&lt;a href=\"https://www.imdb.com/title/tt0185906\"...</td>\n",
       "      <td>&lt;a href=\"https://www.imdb.com/title/tt0185906\"...</td>\n",
       "    </tr>\n",
       "    <tr>\n",
       "      <th>2</th>\n",
       "      <td>tt7366338</td>\n",
       "      <td>Chernobyl</td>\n",
       "      <td>2019</td>\n",
       "      <td>2019.0</td>\n",
       "      <td>3</td>\n",
       "      <td>9.3</td>\n",
       "      <td>952320</td>\n",
       "      <td>Johan Renck</td>\n",
       "      <td>Craig Mazin</td>\n",
       "      <td>Drama, History, Thriller</td>\n",
       "      <td>&lt;a href=\"https://www.imdb.com/title/tt7366338\"...</td>\n",
       "      <td>&lt;a href=\"https://www.imdb.com/title/tt7366338\"...</td>\n",
       "    </tr>\n",
       "    <tr>\n",
       "      <th>3</th>\n",
       "      <td>tt0795176</td>\n",
       "      <td>Planet Earth</td>\n",
       "      <td>2006</td>\n",
       "      <td>2006.0</td>\n",
       "      <td>4</td>\n",
       "      <td>9.4</td>\n",
       "      <td>227650</td>\n",
       "      <td>Alastair Fothergill, Mark Linfield</td>\n",
       "      <td>David Attenborough, Vanessa Berlowitz, Alastai...</td>\n",
       "      <td>Documentary, Family</td>\n",
       "      <td>&lt;a href=\"https://www.imdb.com/title/tt0795176\"...</td>\n",
       "      <td>&lt;a href=\"https://www.imdb.com/title/tt0795176\"...</td>\n",
       "    </tr>\n",
       "    <tr>\n",
       "      <th>4</th>\n",
       "      <td>tt5491994</td>\n",
       "      <td>Planet Earth II</td>\n",
       "      <td>2016</td>\n",
       "      <td>2016.0</td>\n",
       "      <td>5</td>\n",
       "      <td>9.4</td>\n",
       "      <td>166791</td>\n",
       "      <td>Justin Anderson, Ed Charles, Fredi Devas, Chad...</td>\n",
       "      <td>Elizabeth White</td>\n",
       "      <td>Documentary</td>\n",
       "      <td>&lt;a href=\"https://www.imdb.com/title/tt5491994\"...</td>\n",
       "      <td>&lt;a href=\"https://www.imdb.com/title/tt5491994\"...</td>\n",
       "    </tr>\n",
       "  </tbody>\n",
       "</table>\n",
       "</div>"
      ],
      "text/plain": [
       "      tconst      primaryTitle  startYear  endYear  rank  averageRating  \\\n",
       "0  tt0903747      Breaking Bad       2008   2013.0     1            9.5   \n",
       "1  tt0185906  Band of Brothers       2001   2001.0     2            9.4   \n",
       "2  tt7366338         Chernobyl       2019   2019.0     3            9.3   \n",
       "3  tt0795176      Planet Earth       2006   2006.0     4            9.4   \n",
       "4  tt5491994   Planet Earth II       2016   2016.0     5            9.4   \n",
       "\n",
       "   numVotes                                          directors  \\\n",
       "0   2337473  Michelle MacLaren, Adam Bernstein, Vince Gilli...   \n",
       "1    563157  David Frankel, Mikael Salomon, Tom Hanks, Davi...   \n",
       "2    952320                                        Johan Renck   \n",
       "3    227650                 Alastair Fothergill, Mark Linfield   \n",
       "4    166791  Justin Anderson, Ed Charles, Fredi Devas, Chad...   \n",
       "\n",
       "                                             writers  \\\n",
       "0  Vince Gilligan, Peter Gould, George Mastras, S...   \n",
       "1  Stephen Ambrose, Erik Bork, E. Max Frye, Tom H...   \n",
       "2                                        Craig Mazin   \n",
       "3  David Attenborough, Vanessa Berlowitz, Alastai...   \n",
       "4                                    Elizabeth White   \n",
       "\n",
       "                     genres  \\\n",
       "0    Crime, Drama, Thriller   \n",
       "1    Action, Drama, History   \n",
       "2  Drama, History, Thriller   \n",
       "3       Documentary, Family   \n",
       "4               Documentary   \n",
       "\n",
       "                                            IMDbLink  \\\n",
       "0  <a href=\"https://www.imdb.com/title/tt0903747\"...   \n",
       "1  <a href=\"https://www.imdb.com/title/tt0185906\"...   \n",
       "2  <a href=\"https://www.imdb.com/title/tt7366338\"...   \n",
       "3  <a href=\"https://www.imdb.com/title/tt0795176\"...   \n",
       "4  <a href=\"https://www.imdb.com/title/tt5491994\"...   \n",
       "\n",
       "                                     Title_IMDb_Link  \n",
       "0  <a href=\"https://www.imdb.com/title/tt0903747\"...  \n",
       "1  <a href=\"https://www.imdb.com/title/tt0185906\"...  \n",
       "2  <a href=\"https://www.imdb.com/title/tt7366338\"...  \n",
       "3  <a href=\"https://www.imdb.com/title/tt0795176\"...  \n",
       "4  <a href=\"https://www.imdb.com/title/tt5491994\"...  "
      ]
     },
     "execution_count": 46,
     "metadata": {},
     "output_type": "execute_result"
    }
   ],
   "source": [
    "# Load Dataset 1\n",
    "import pandas as pd\n",
    "import numpy as np\n",
    "import matplotlib.pyplot as plt\n",
    "import seaborn as sns\n",
    "\n",
    "ratings_df = pd.read_csv(r\"C:\\Users\\wasee\\Desktop\\kaggle_imdb_top_5000_tv_shows.csv\")\n",
    "ratings_df.head()\n"
   ]
  },
  {
   "cell_type": "markdown",
   "metadata": {
    "id": "hoUjq1tPzz7P"
   },
   "source": [
    "#### Dataset 2\n",
    "\n",
    "Type: *JSON response via API* \n",
    "\n",
    "Method: *Programmatically collected using the OMDb API (`http://www.omdbapi.com`) by sending requests for each show title.* \n",
    "\n",
    "Dataset variables:\n",
    "\n",
    "*   ** `Released`: The official release date of the TV show — useful for temporal analysis, such as trends over time or comparison across decades.\n",
    " \n",
    "*   ** `Runtime`: Total duration of the show in minutes — can be used to explore whether longer shows are more highly rated or not.*"
   ]
  },
  {
   "cell_type": "markdown",
   "metadata": {
    "id": "6zT0QxRyYmm7"
   },
   "source": [
    "### The second dataset was collected programmatically using the OMDb API. A loop was used to send individual API requests for the top 500 show titles from the first dataset. For each title, a JSON response was returned and parsed into structured data containing fields such as `Released`, `Runtime`, `Genre`, `imdbRating`, and `imdbVotes`.\n",
    "\n",
    "The JSON responses were stored in a list and then converted into a Pandas DataFrame using `pd.DataFrame()`, allowing easy merging with the original dataset for further cleaning and analysis.\n"
   ]
  },
  {
   "cell_type": "code",
   "execution_count": 47,
   "metadata": {},
   "outputs": [],
   "source": [
    "import requests\n",
    "\n",
    "api_key = input(\"🔑 Please enter your API key: \")\n",
    "\n",
    "\n",
    "def get_movie_data(title):\n",
    "    url = f\"http://www.omdbapi.com/?t={title}&apikey={api_key}\"\n",
    "    try:\n",
    "        response = requests.get(url)\n",
    "        return response.json()\n",
    "    except requests.exceptions.RequestException as e:\n",
    "        print(f\"Error with {title}: {e}\")\n",
    "        return {}"
   ]
  },
  {
   "cell_type": "code",
   "execution_count": 48,
   "metadata": {
    "scrolled": true
   },
   "outputs": [
    {
     "name": "stdout",
     "output_type": "stream",
     "text": [
      "Fetching: Breaking Bad\n",
      "Fetching: Band of Brothers\n",
      "Fetching: Chernobyl\n",
      "Fetching: Planet Earth\n",
      "Fetching: Planet Earth II\n",
      "Fetching: Game of Thrones\n",
      "Fetching: The Sopranos\n",
      "Fetching: Avatar: The Last Airbender\n",
      "Fetching: The Wire\n",
      "Fetching: Rick and Morty\n",
      "Fetching: Attack on Titan\n",
      "Fetching: Aspirants\n",
      "Fetching: Scam 1992: The Harshad Mehta Story\n",
      "Fetching: Cosmos: A Spacetime Odyssey\n",
      "Fetching: Sherlock\n",
      "Fetching: The Office\n",
      "Fetching: Better Call Saul\n",
      "Fetching: Arcane\n",
      "Fetching: Fullmetal Alchemist: Brotherhood\n",
      "Fetching: Blue Planet II\n",
      "Fetching: Friends\n",
      "Fetching: True Detective\n",
      "Fetching: Death Note\n",
      "Fetching: Seinfeld\n",
      "Fetching: One Piece\n",
      "Fetching: The Last Dance\n",
      "Fetching: Hunter x Hunter\n",
      "Fetching: Batman: The Animated Series\n",
      "Fetching: TVF Pitchers\n",
      "Fetching: Our Planet\n",
      "Fetching: Cosmos\n",
      "Fetching: Bluey\n",
      "Fetching: Fargo\n",
      "Fetching: Ted Lasso\n",
      "Fetching: Succession\n",
      "Fetching: Firefly\n",
      "Fetching: Gravity Falls\n",
      "Fetching: Cowboy Bebop\n",
      "Fetching: The Twilight Zone\n",
      "Fetching: Leyla and Mecnun\n",
      "Fetching: Kota Factory\n",
      "Fetching: Clarkson's Farm\n",
      "Fetching: The Chosen\n",
      "Fetching: Life\n",
      "Fetching: Peaky Blinders\n",
      "Fetching: Black Mirror\n",
      "Fetching: House\n",
      "Fetching: Narcos\n",
      "Fetching: Dark\n",
      "Fetching: South Park\n",
      "Fetching: Severance\n",
      "Fetching: It's Always Sunny in Philadelphia\n",
      "Fetching: BoJack Horseman\n",
      "Fetching: Dragon Ball Z\n",
      "Fetching: Freaks and Geeks\n",
      "Fetching: Curb Your Enthusiasm\n",
      "Fetching: When They See Us\n",
      "Fetching: Dhindora\n",
      "Fetching: Fawlty Towers\n",
      "Fetching: Vinland Saga\n",
      "Fetching: Last Week Tonight with John Oliver\n",
      "Fetching: Pride and Prejudice\n",
      "Fetching: Dragon Ball Z\n",
      "Fetching: The West Wing\n",
      "Fetching: Bleach: Thousand-Year Blood War\n",
      "Fetching: Only Fools and Horses\n",
      "Fetching: Persona\n",
      "Fetching: The Blue Planet\n",
      "Fetching: NCR Days\n",
      "Fetching: The World at War\n",
      "Fetching: Stranger Things\n",
      "Fetching: Dexter\n",
      "Fetching: The Boys\n",
      "Fetching: The Last of Us\n",
      "Fetching: The Mandalorian\n",
      "Fetching: House of Cards\n",
      "Fetching: Daredevil\n",
      "Fetching: The Simpsons\n",
      "Fetching: Mindhunter\n",
      "Fetching: Arrested Development\n",
      "Fetching: Parks and Recreation\n",
      "Fetching: Yellowstone\n",
      "Fetching: Invincible\n",
      "Fetching: Mad Men\n",
      "Fetching: The Crown\n",
      "Fetching: Downton Abbey\n",
      "Fetching: Twin Peaks\n",
      "Fetching: Fleabag\n",
      "Fetching: One Punch Man\n",
      "Fetching: Naruto: Shippuden\n",
      "Fetching: Rome\n",
      "Fetching: Battlestar Galactica\n",
      "Fetching: This Is Us\n",
      "Fetching: Six Feet Under\n",
      "Fetching: The Marvelous Mrs. Maisel\n",
      "Fetching: Star Trek: The Next Generation\n",
      "Fetching: 1883\n",
      "Fetching: Top Gear\n",
      "Fetching: Oz\n",
      "Fetching: The Family Man\n",
      "Fetching: The Shield\n",
      "Fetching: Blue Eye Samurai\n",
      "Fetching: Code Geass\n",
      "Fetching: The Grand Tour\n",
      "Fetching: Steins;Gate\n",
      "Fetching: Monty Python's Flying Circus\n",
      "Fetching: Chappelle's Show\n",
      "Fetching: Blackadder Goes Forth\n",
      "Fetching: The Pitt\n",
      "Fetching: Nathan for You\n",
      "Fetching: Frieren: Beyond Journey's End\n",
      "Fetching: Frozen Planet\n",
      "Fetching: The Vietnam War\n",
      "Fetching: Human Planet\n",
      "Fetching: Gullak\n",
      "Fetching: Halka\n",
      "Fetching: The Queen's Gambit\n",
      "Fetching: Vikings\n",
      "Fetching: Modern Family\n",
      "Fetching: Mr. Robot\n",
      "Fetching: Ozark\n",
      "Fetching: Sons of Anarchy\n",
      "Fetching: Shameless\n",
      "Fetching: The Haunting of Hill House\n",
      "Fetching: Community\n",
      "Fetching: Hannibal\n",
      "Fetching: Futurama\n",
      "Fetching: The Bear\n",
      "Fetching: Spartacus\n",
      "Fetching: The X-Files\n",
      "Fetching: Doctor Who\n",
      "Fetching: Shōgun\n",
      "Fetching: Boardwalk Empire\n",
      "Fetching: The Penguin\n",
      "Fetching: Demon Slayer: Kimetsu no Yaiba\n",
      "Fetching: Archer\n",
      "Fetching: Mr. Bean\n",
      "Fetching: The Newsroom\n",
      "Fetching: Justified\n",
      "Fetching: Deadwood\n",
      "Fetching: Adventure Time\n",
      "Fetching: What We Do in the Shadows\n",
      "Fetching: Atlanta\n",
      "Fetching: Dopesick\n",
      "Fetching: Over the Garden Wall\n",
      "Fetching: Friday Night Lights\n",
      "Fetching: Line of Duty\n",
      "Fetching: Peep Show\n",
      "Fetching: Berserk\n",
      "Fetching: Monster\n",
      "Fetching: Crash Landing on You\n",
      "Fetching: Das Boot\n",
      "Fetching: The Beatles: Get Back\n",
      "Fetching: Dekalog\n",
      "Fetching: As If\n",
      "Fetching: Undercover\n",
      "Fetching: Ramayan\n",
      "Fetching: Taskmaster\n",
      "Fetching: When Life Gives You Tangerines\n",
      "Fetching: Çilgin Dersane at the University\n",
      "Fetching: Westworld\n",
      "Fetching: Suits\n",
      "Fetching: Supernatural\n",
      "Fetching: Brooklyn Nine-Nine\n",
      "Fetching: The Punisher\n",
      "Fetching: Scrubs\n",
      "Fetching: Fringe\n",
      "Fetching: Big Little Lies\n",
      "Fetching: Cobra Kai\n",
      "Fetching: Andor\n",
      "Fetching: Person of Interest\n",
      "Fetching: The Expanse\n",
      "Fetching: The Last Kingdom\n",
      "Fetching: Silicon Valley\n",
      "Fetching: The IT Crowd\n",
      "Fetching: Schitt's Creek\n",
      "Fetching: Jujutsu Kaisen\n",
      "Fetching: Spartacus: Gods of the Arena\n",
      "Fetching: The Office\n",
      "Fetching: Making a Murderer\n",
      "Fetching: Neon Genesis Evangelion\n",
      "Fetching: Bosch\n",
      "Fetching: Heartstopper\n",
      "Fetching: Louie\n",
      "Fetching: Twin Peaks\n",
      "Fetching: Battlestar Galactica\n",
      "Fetching: Fullmetal Alchemist\n",
      "Fetching: The Bridge\n",
      "Fetching: Anne with an E\n",
      "Fetching: Regular Show\n",
      "Fetching: The Jinx: The Life and Deaths of Robert Durst\n",
      "Fetching: Poirot\n",
      "Fetching: Blackadder II\n",
      "Fetching: Impractical Jokers\n",
      "Fetching: Blackadder the Third\n",
      "Fetching: Young Justice\n",
      "Fetching: Gomorrah\n",
      "Fetching: Father Ted\n",
      "Fetching: The Offer\n",
      "Fetching: X-Men '97\n",
      "Fetching: Haikyu!!\n",
      "Fetching: Mr Inbetween\n",
      "Fetching: Behzat Ç: An Ankara Detective Story\n",
      "Fetching: Flames\n",
      "Fetching: Yeh Meri Family\n",
      "Fetching: Mahabharat\n",
      "Fetching: The Civil War\n",
      "Fetching: Azize\n",
      "Fetching: Koombiyo\n",
      "Fetching: How I Met Your Mother\n",
      "Fetching: Lost\n",
      "Fetching: Prison Break\n",
      "Fetching: House of the Dragon\n",
      "Fetching: Homeland\n",
      "Fetching: Fallout\n",
      "Fetching: The Handmaid's Tale\n",
      "Fetching: Euphoria\n",
      "Fetching: Love, Death & Robots\n",
      "Fetching: Mare of Easttown\n",
      "Fetching: 24\n",
      "Fetching: The Night Of\n",
      "Fetching: Entourage\n",
      "Fetching: The Heroes\n",
      "Fetching: After Life\n",
      "Fetching: Luther\n",
      "Fetching: Naruto\n",
      "Fetching: Banshee\n",
      "Fetching: Star Wars: The Clone Wars\n",
      "Fetching: The Americans\n",
      "Fetching: Psych\n",
      "Fetching: Normal People\n",
      "Fetching: Stargate SG-1\n",
      "Fetching: American Crime Story\n",
      "Fetching: The Inbetweeners\n",
      "Fetching: Star Trek\n",
      "Fetching: Mirzapur\n",
      "Fetching: The Good Wife\n",
      "Fetching: Ash vs Evil Dead\n",
      "Fetching: Dragon Ball\n",
      "Fetching: Dragon Ball\n",
      "Fetching: Happy Valley\n",
      "Fetching: Derry Girls\n",
      "Fetching: Asur: Welcome to Your Dark Side\n",
      "Fetching: Flight of the Conchords\n",
      "Fetching: M*A*S*H\n",
      "Fetching: Samurai Jack\n",
      "Fetching: Samurai Champloo\n",
      "Fetching: Spaced\n",
      "Fetching: Formula 1: Drive to Survive\n",
      "Fetching: Mob Psycho 100\n",
      "Fetching: Justice League\n",
      "Fetching: Trailer Park Boys\n",
      "Fetching: The Knick\n",
      "Fetching: Boston Legal\n",
      "Fetching: Coupling\n",
      "Fetching: Whose Line Is It Anyway?\n",
      "Fetching: Your Lie in April\n",
      "Fetching: JoJo's Bizarre Adventure\n",
      "Fetching: It's Okay to Not Be Okay\n",
      "Fetching: Skam\n",
      "Fetching: Ezel\n",
      "Fetching: It's a Sin\n",
      "Fetching: Special OPS\n",
      "Fetching: The Bugs Bunny Show\n",
      "Fetching: Endeavour\n",
      "Fetching: Pose\n",
      "Fetching: QI\n",
      "Fetching: Call the Midwife\n",
      "Fetching: Extraordinary Attorney Woo\n",
      "Fetching: Guardian: The Lonely and Great God\n",
      "Fetching: Letterkenny\n",
      "Fetching: Scavengers Reign\n",
      "Fetching: Lonesome Dove\n",
      "Fetching: The Thick of It\n",
      "Fetching: The Adventures of Sherlock Holmes\n",
      "Fetching: Another Love\n",
      "Fetching: Alchemy of Souls\n",
      "Fetching: Justice League Unlimited\n",
      "Fetching: I, Claudius\n",
      "Fetching: Black Pearl\n",
      "Fetching: Rocket Boys\n",
      "Fetching: Sarabhai V/S Sarabhai\n",
      "Fetching: Africa\n",
      "Fetching: Apocalypse: The Second World War\n",
      "Fetching: Reply 1988\n",
      "Fetching: Critical Role\n",
      "Fetching: The Legend of Hanuman\n",
      "Fetching: Money Heist\n",
      "Fetching: Loki\n",
      "Fetching: Sex Education\n",
      "Fetching: The Mentalist\n",
      "Fetching: The Good Place\n",
      "Fetching: Adolescence\n",
      "Fetching: Californication\n",
      "Fetching: Outlander\n",
      "Fetching: One Piece\n",
      "Fetching: Buffy the Vampire Slayer\n",
      "Fetching: Taboo\n",
      "Fetching: Peacemaker\n",
      "Fetching: The Legend of Korra\n",
      "Fetching: The Pacific\n",
      "Fetching: 30 Rock\n",
      "Fetching: Broadchurch\n",
      "Fetching: Barry\n",
      "Fetching: Unbelievable\n",
      "Fetching: The Killing\n",
      "Fetching: The Leftovers\n",
      "Fetching: Orphan Black\n",
      "Fetching: Billions\n",
      "Fetching: Maid\n",
      "Fetching: Cyberpunk: Edgerunners\n",
      "Fetching: Narcos: Mexico\n",
      "Fetching: Ray Donovan\n",
      "Fetching: Castlevania\n",
      "Fetching: 1923\n",
      "Fetching: Veronica Mars\n",
      "Fetching: Chainsaw Man\n",
      "Fetching: Veep\n",
      "Fetching: Erased\n",
      "Fetching: Star Trek: Strange New Worlds\n",
      "Fetching: Black Books\n",
      "Fetching: Pushing Daisies\n",
      "Fetching: Utopia\n",
      "Fetching: X-Men\n",
      "Fetching: Warrior\n",
      "Fetching: The Legend of Vox Machina\n",
      "Fetching: Carnivàle\n",
      "Fetching: The Amazing World of Gumball\n",
      "Fetching: Top Boy\n",
      "Fetching: Dr. Horrible's Sing-Along Blog\n",
      "Fetching: The Wonder Years\n",
      "Fetching: Harley Quinn\n",
      "Fetching: Doctor Who\n",
      "Fetching: Snowfall\n",
      "Fetching: The Colbert Report\n",
      "Fetching: The Boondocks\n",
      "Fetching: John Adams\n",
      "Fetching: Red Dwarf\n",
      "Fetching: North & South\n",
      "Fetching: Borgen\n",
      "Fetching: Mumbai Diaries\n",
      "Fetching: The Rehearsal\n",
      "Fetching: Southland\n",
      "Fetching: I Love Lucy\n",
      "Fetching: The Venture Bros.\n",
      "Fetching: Delhi Crime\n",
      "Fetching: Mystery Science Theater 3000\n",
      "Fetching: MobLand\n",
      "Fetching: Permanent Roommates\n",
      "Fetching: Wentworth\n",
      "Fetching: Primal\n",
      "Fetching: Detectorists\n",
      "Fetching: I'm Alan Partridge\n",
      "Fetching: Avrupa Yakasi\n",
      "Fetching: The Owl House\n",
      "Fetching: Lucky Guy\n",
      "Fetching: Isler Güçler\n",
      "Fetching: My Brilliant Friend\n",
      "Fetching: Gintama\n",
      "Fetching: Campus Diaries\n",
      "Fetching: Mahabharat\n",
      "Fetching: My Mister\n",
      "Fetching: The Walking Dead\n",
      "Fetching: The Big Bang Theory\n",
      "Fetching: Family Guy\n",
      "Fetching: Criminal Minds\n",
      "Fetching: That '70s Show\n",
      "Fetching: Only Murders in the Building\n",
      "Fetching: Silo\n",
      "Fetching: Castle\n",
      "Fetching: How to Get Away with Murder\n",
      "Fetching: Sense8\n",
      "Fetching: Gilmore Girls\n",
      "Fetching: The Originals\n",
      "Fetching: Chuck\n",
      "Fetching: Malcolm in the Middle\n",
      "Fetching: White Collar\n",
      "Fetching: Watchmen\n",
      "Fetching: The Morning Show\n",
      "Fetching: Penny Dreadful\n",
      "Fetching: Black Sails\n",
      "Fetching: SpongeBob SquarePants\n",
      "Fetching: Misfits\n",
      "Fetching: Atypical\n",
      "Fetching: Frasier\n",
      "Fetching: Bob's Burgers\n",
      "Fetching: Skins\n",
      "Fetching: My Hero Academia\n",
      "Fetching: Godless\n",
      "Fetching: Bleach\n",
      "Fetching: Master of None\n",
      "Fetching: Paatal Lok\n",
      "Fetching: Eastbound & Down\n",
      "Fetching: Forever\n",
      "Fetching: Extras\n",
      "Fetching: Blue Mountain State\n",
      "Fetching: Grace and Frankie\n",
      "Fetching: Kingdom\n",
      "Fetching: Hell on Wheels\n",
      "Fetching: MythBusters\n",
      "Fetching: Courage the Cowardly Dog\n",
      "Fetching: Spy x Family\n",
      "Fetching: Farzi\n",
      "Fetching: The Young Pope\n",
      "Fetching: The Daily Show\n",
      "Fetching: 24: Live Another Day\n",
      "Fetching: Columbo\n",
      "Fetching: Longmire\n",
      "Fetching: Farscape\n",
      "Fetching: Parenthood\n",
      "Fetching: Dragon Ball Super\n",
      "Fetching: Fauda\n",
      "Fetching: Poldark\n",
      "Fetching: Spider-Man: The Animated Series\n",
      "Fetching: Broad City\n",
      "Fetching: Halt and Catch Fire\n",
      "Fetching: Babylon 5\n",
      "Fetching: Life\n",
      "Fetching: Years and Years\n",
      "Fetching: An Idiot Abroad\n",
      "Fetching: Violet Evergarden\n",
      "Fetching: Vincenzo\n",
      "Fetching: Bosch: Legacy\n",
      "Fetching: Unforgotten\n",
      "Fetching: The Good Fight\n",
      "Fetching: Generation War\n",
      "Fetching: Life on Mars\n",
      "Fetching: Dandadan\n",
      "Fetching: Babylon Berlin\n",
      "Fetching: The Killing\n",
      "Fetching: Ethos\n",
      "Fetching: Ghosts\n",
      "Fetching: 'Allo 'Allo!\n",
      "Fetching: Inside Look: The People v. O.J. Simpson - American Crime Story\n",
      "Fetching: The Muppet Show\n",
      "Fetching: The Railway Men\n",
      "Fetching: Jesus of Nazareth\n",
      "Fetching: Top Gear\n",
      "Fetching: The Mighty Boosh\n",
      "Fetching: RuPaul's Drag Race\n",
      "Fetching: Kaguya-sama: Love is War\n",
      "Fetching: Anne of Green Gables\n",
      "Fetching: Queer as Folk\n",
      "Fetching: The Eric Andre Show\n",
      "Fetching: Inside No. 9\n",
      "Fetching: Queer Eye\n",
      "Fetching: Ghost in the Shell: Stand Alone Complex\n",
      "Fetching: Smiling Friends\n",
      "Fetching: Rurouni Kenshin\n",
      "Fetching: Garth Marenghi's Darkplace\n",
      "Fetching: TVF Tripling\n",
      "Fetching: Kingdom\n",
      "Fetching: Please Like Me\n",
      "Fetching: Alfred Hitchcock Presents\n",
      "Fetching: Bandish Bandits\n",
      "Fetching: Foyle's War\n",
      "Fetching: Barareh Nights\n",
      "Fetching: Through the Wormhole\n",
      "Fetching: Death's Game\n",
      "Fetching: Twenty Five Twenty One\n",
      "Fetching: Yes Minister\n",
      "Fetching: Kardes Payi\n",
      "Fetching: Rurouni Kenshin: Reminiscence\n",
      "Fetching: The Bureau\n",
      "Fetching: Long Way Round\n",
      "Fetching: Homicide: Life on the Street\n",
      "Fetching: Tear Along the Dotted Line\n",
      "Fetching: How to with John Wilson\n",
      "Fetching: El Chavo del Ocho\n",
      "Fetching: Pew News\n",
      "Fetching: The Return of Sherlock Holmes\n",
      "Fetching: Fighting Spirit\n",
      "Fetching: Black Sun\n",
      "Fetching: Not Me\n",
      "Fetching: Tash Ma Tash\n",
      "Fetching: Harga\n",
      "Fetching: Still Game\n",
      "Fetching: Farouk Omar\n",
      "Fetching: The Beatles Anthology\n",
      "Fetching: Vratice se rode\n",
      "Fetching: The Godfather: A Novel for Television\n",
      "Fetching: Squid Game\n",
      "Fetching: Wednesday\n",
      "Fetching: Lucifer\n",
      "Fetching: Orange Is the New Black\n",
      "Fetching: The White Lotus\n",
      "Fetching: Reacher\n",
      "Fetching: The End of the F***ing World\n",
      "Fetching: Tom Clancy's Jack Ryan\n",
      "Fetching: The Gentlemen\n",
      "Fetching: Bodyguard\n",
      "Fetching: Beef\n",
      "Fetching: Killing Eve\n",
      "Fetching: Law & Order: Special Victims Unit\n",
      "Fetching: The Fall\n",
      "Fetching: Black Bird\n",
      "Fetching: Bates Motel\n",
      "Fetching: Married... with Children\n",
      "Fetching: 11.22.63\n",
      "Fetching: Shrinking\n",
      "Fetching: Monk\n",
      "Fetching: The Tudors\n",
      "Fetching: For All Mankind\n",
      "Fetching: Resident Alien\n",
      "Fetching: Star Trek: Deep Space Nine\n",
      "Fetching: Stargate: Atlantis\n",
      "Fetching: Star Wars: Rebels\n",
      "Fetching: Daredevil: Born Again\n",
      "Fetching: Phineas and Ferb\n",
      "Fetching: Ripley\n",
      "Fetching: Dirk Gently's Holistic Detective Agency\n",
      "Fetching: Goliath\n",
      "Fetching: One Day\n",
      "Fetching: The Great\n",
      "Fetching: The Righteous Gemstones\n",
      "Fetching: Workaholics\n",
      "Fetching: Parasyte: The Maxim\n",
      "Fetching: Power\n",
      "Fetching: Taaza Khabar\n",
      "Fetching: Hacks\n",
      "Fetching: The League\n",
      "Fetching: The Promised Neverland\n",
      "Fetching: Tokyo Vice\n",
      "Fetching: Jury Duty\n",
      "Fetching: The Golden Girls\n",
      "Fetching: Final Space\n",
      "Fetching: Bad Sisters\n",
      "Fetching: Young Royals\n",
      "Fetching: Animal Kingdom\n",
      "Fetching: The Kominsky Method\n",
      "Fetching: Abbott Elementary\n",
      "Fetching: Black Clover\n",
      "Fetching: Party Down\n",
      "Fetching: Quantum Leap\n",
      "Fetching: The Glory\n",
      "Fetching: Dexter: Original Sin\n",
      "Fetching: Victoria\n",
      "Fetching: Rogue Heroes\n",
      "Fetching: Winning Time: The Rise of the Lakers Dynasty\n",
      "Fetching: The Dragon Prince\n",
      "Fetching: Time\n",
      "Fetching: Love Doesn't Understand Words\n",
      "Fetching: College Romance\n",
      "Fetching: Shetland\n",
      "Fetching: Rescue Me\n",
      "Fetching: Feud\n",
      "Fetching: Rectify\n",
      "Fetching: Olive Kitteridge\n",
      "Fetching: Key and Peele\n",
      "Fetching: Reservation Dogs\n",
      "Fetching: Dragon Ball Z Kai\n",
      "Fetching: Studio 60 on the Sunset Strip\n",
      "Fetching: Hometown Cha-Cha-Cha\n",
      "Fetching: Gurren Lagann\n",
      "Fetching: Northern Exposure\n",
      "Fetching: Invader ZIM\n",
      "Fetching: Welcome to Wrexham\n",
      "Fetching: Jane Eyre\n",
      "Fetching: Police Squad!\n",
      "Fetching: Wayne\n",
      "Fetching: Doc Martin\n",
      "Fetching: Kaiju No. 8\n",
      "Fetching: Heartland\n",
      "Fetching: The Spectacular Spider-Man\n",
      "Fetching: This Is Going to Hurt\n",
      "Fetching: Trollhunters: Tales of Arcadia\n",
      "Fetching: The New Batman Adventures\n",
      "Fetching: All in the Family\n",
      "Fetching: Roots\n",
      "Fetching: My Mad Fat Diary\n",
      "Fetching: The Andy Griffith Show\n",
      "Fetching: Horace and Pete\n",
      "Fetching: Scenes from a Marriage\n",
      "Fetching: Chef's Table\n",
      "Fetching: The Ricky Gervais Show\n",
      "Fetching: Yu Yu Hakusho: Ghost Files\n",
      "Fetching: Broken But Beautiful\n",
      "Fetching: Flower of Evil\n",
      "Fetching: Detective Conan\n",
      "Fetching: The Defiant Ones\n",
      "Fetching: The Prisoner\n",
      "Fetching: Pantheon\n",
      "Fetching: House of Cards\n",
      "Fetching: Mushi-Shi\n",
      "Fetching: Summer Heights High\n",
      "Fetching: Hilda\n",
      "Fetching: Mouse\n",
      "Fetching: The Apothecary Diaries\n",
      "Fetching: The Great British Baking Show\n",
      "Fetching: Sixer\n",
      "Fetching: From the Earth to the Moon\n",
      "Fetching: Yes, Prime Minister\n",
      "Fetching: Moon Lovers: Scarlet Heart Ryeo\n",
      "Fetching: Mr. Queen\n",
      "Fetching: The Untamed\n",
      "Fetching: Greatest Events of WWII in Colour\n",
      "Fetching: Content Cop\n",
      "Fetching: Mr. Sunshine\n",
      "Fetching: Umbre\n",
      "Fetching: Brass Eye\n",
      "❌ Failed titles: ['Rurouni Kenshin: Reminiscence', 'The Godfather: A Novel for Television']\n"
     ]
    }
   ],
   "source": [
    "movie_data = []\n",
    "failed_titles = []\n",
    "\n",
    "for title in ratings_df[\"primaryTitle\"].head(600): \n",
    "    print(f\"Fetching: {title}\")\n",
    "    data = get_movie_data(title)\n",
    "\n",
    "    if data.get(\"Response\") == \"True\":\n",
    "        movie_data.append({\n",
    "            \"Title\": data.get(\"Title\"),\n",
    "            \"Released\": data.get(\"Released\"),\n",
    "            \"Genre\": data.get(\"Genre\"),\n",
    "            \"Runtime\": data.get(\"Runtime\"),\n",
    "            \"imdbRating\": data.get(\"imdbRating\"),\n",
    "            \"imdbVotes\": data.get(\"imdbVotes\"),\n",
    "            \"BoxOffice\": data.get(\"BoxOffice\")\n",
    "        })\n",
    "    else:\n",
    "        failed_titles.append(title)\n",
    "\n",
    "print(\"❌ Failed titles:\", failed_titles)"
   ]
  },
  {
   "cell_type": "code",
   "execution_count": 49,
   "metadata": {},
   "outputs": [
    {
     "data": {
      "text/html": [
       "<div>\n",
       "<style scoped>\n",
       "    .dataframe tbody tr th:only-of-type {\n",
       "        vertical-align: middle;\n",
       "    }\n",
       "\n",
       "    .dataframe tbody tr th {\n",
       "        vertical-align: top;\n",
       "    }\n",
       "\n",
       "    .dataframe thead th {\n",
       "        text-align: right;\n",
       "    }\n",
       "</style>\n",
       "<table border=\"1\" class=\"dataframe\">\n",
       "  <thead>\n",
       "    <tr style=\"text-align: right;\">\n",
       "      <th></th>\n",
       "      <th>Title</th>\n",
       "      <th>Released</th>\n",
       "      <th>Genre</th>\n",
       "      <th>Runtime</th>\n",
       "      <th>imdbRating</th>\n",
       "      <th>imdbVotes</th>\n",
       "      <th>BoxOffice</th>\n",
       "    </tr>\n",
       "  </thead>\n",
       "  <tbody>\n",
       "    <tr>\n",
       "      <th>0</th>\n",
       "      <td>Breaking Bad</td>\n",
       "      <td>20 Jan 2008</td>\n",
       "      <td>Crime, Drama, Thriller</td>\n",
       "      <td>49 min</td>\n",
       "      <td>9.5</td>\n",
       "      <td>2,331,402</td>\n",
       "      <td>None</td>\n",
       "    </tr>\n",
       "    <tr>\n",
       "      <th>1</th>\n",
       "      <td>Band of Brothers</td>\n",
       "      <td>09 Sep 2001</td>\n",
       "      <td>Action, Drama, History</td>\n",
       "      <td>594 min</td>\n",
       "      <td>9.4</td>\n",
       "      <td>561,613</td>\n",
       "      <td>None</td>\n",
       "    </tr>\n",
       "    <tr>\n",
       "      <th>2</th>\n",
       "      <td>Chernobyl</td>\n",
       "      <td>06 May 2019</td>\n",
       "      <td>Drama, History, Thriller</td>\n",
       "      <td>330 min</td>\n",
       "      <td>9.3</td>\n",
       "      <td>947,377</td>\n",
       "      <td>None</td>\n",
       "    </tr>\n",
       "    <tr>\n",
       "      <th>3</th>\n",
       "      <td>Planet Earth</td>\n",
       "      <td>25 Mar 2007</td>\n",
       "      <td>Documentary, Family</td>\n",
       "      <td>538 min</td>\n",
       "      <td>9.4</td>\n",
       "      <td>227,238</td>\n",
       "      <td>None</td>\n",
       "    </tr>\n",
       "    <tr>\n",
       "      <th>4</th>\n",
       "      <td>Planet Earth II</td>\n",
       "      <td>18 Feb 2017</td>\n",
       "      <td>Documentary</td>\n",
       "      <td>298 min</td>\n",
       "      <td>9.4</td>\n",
       "      <td>166,497</td>\n",
       "      <td>None</td>\n",
       "    </tr>\n",
       "    <tr>\n",
       "      <th>...</th>\n",
       "      <td>...</td>\n",
       "      <td>...</td>\n",
       "      <td>...</td>\n",
       "      <td>...</td>\n",
       "      <td>...</td>\n",
       "      <td>...</td>\n",
       "      <td>...</td>\n",
       "    </tr>\n",
       "    <tr>\n",
       "      <th>593</th>\n",
       "      <td>Greatest Events of WWII in Colour</td>\n",
       "      <td>24 Jun 2019</td>\n",
       "      <td>Documentary, History, War</td>\n",
       "      <td>50 min</td>\n",
       "      <td>8.6</td>\n",
       "      <td>11,729</td>\n",
       "      <td>None</td>\n",
       "    </tr>\n",
       "    <tr>\n",
       "      <th>594</th>\n",
       "      <td>Content Cop</td>\n",
       "      <td>13 Dec 2015</td>\n",
       "      <td>Comedy, Crime, Talk-Show</td>\n",
       "      <td>20 min</td>\n",
       "      <td>8.7</td>\n",
       "      <td>12,619</td>\n",
       "      <td>None</td>\n",
       "    </tr>\n",
       "    <tr>\n",
       "      <th>595</th>\n",
       "      <td>Mr. Sunshine</td>\n",
       "      <td>07 Jul 2018</td>\n",
       "      <td>Action, Drama, Romance</td>\n",
       "      <td>1 min</td>\n",
       "      <td>8.7</td>\n",
       "      <td>11,146</td>\n",
       "      <td>None</td>\n",
       "    </tr>\n",
       "    <tr>\n",
       "      <th>596</th>\n",
       "      <td>Umbre</td>\n",
       "      <td>28 Dec 2014</td>\n",
       "      <td>Crime, Drama, Thriller</td>\n",
       "      <td>1 min</td>\n",
       "      <td>8.7</td>\n",
       "      <td>11,682</td>\n",
       "      <td>None</td>\n",
       "    </tr>\n",
       "    <tr>\n",
       "      <th>597</th>\n",
       "      <td>Brass Eye</td>\n",
       "      <td>29 Jan 1997</td>\n",
       "      <td>Comedy</td>\n",
       "      <td>25 min</td>\n",
       "      <td>8.6</td>\n",
       "      <td>12,156</td>\n",
       "      <td>None</td>\n",
       "    </tr>\n",
       "  </tbody>\n",
       "</table>\n",
       "<p>598 rows × 7 columns</p>\n",
       "</div>"
      ],
      "text/plain": [
       "                                 Title     Released  \\\n",
       "0                         Breaking Bad  20 Jan 2008   \n",
       "1                     Band of Brothers  09 Sep 2001   \n",
       "2                            Chernobyl  06 May 2019   \n",
       "3                         Planet Earth  25 Mar 2007   \n",
       "4                      Planet Earth II  18 Feb 2017   \n",
       "..                                 ...          ...   \n",
       "593  Greatest Events of WWII in Colour  24 Jun 2019   \n",
       "594                        Content Cop  13 Dec 2015   \n",
       "595                       Mr. Sunshine  07 Jul 2018   \n",
       "596                              Umbre  28 Dec 2014   \n",
       "597                          Brass Eye  29 Jan 1997   \n",
       "\n",
       "                         Genre  Runtime imdbRating  imdbVotes BoxOffice  \n",
       "0       Crime, Drama, Thriller   49 min        9.5  2,331,402      None  \n",
       "1       Action, Drama, History  594 min        9.4    561,613      None  \n",
       "2     Drama, History, Thriller  330 min        9.3    947,377      None  \n",
       "3          Documentary, Family  538 min        9.4    227,238      None  \n",
       "4                  Documentary  298 min        9.4    166,497      None  \n",
       "..                         ...      ...        ...        ...       ...  \n",
       "593  Documentary, History, War   50 min        8.6     11,729      None  \n",
       "594   Comedy, Crime, Talk-Show   20 min        8.7     12,619      None  \n",
       "595     Action, Drama, Romance    1 min        8.7     11,146      None  \n",
       "596     Crime, Drama, Thriller    1 min        8.7     11,682      None  \n",
       "597                     Comedy   25 min        8.6     12,156      None  \n",
       "\n",
       "[598 rows x 7 columns]"
      ]
     },
     "execution_count": 49,
     "metadata": {},
     "output_type": "execute_result"
    }
   ],
   "source": [
    "api_df = pd.DataFrame(movie_data)\n",
    "api_df"
   ]
  },
  {
   "cell_type": "code",
   "execution_count": 68,
   "metadata": {},
   "outputs": [],
   "source": [
    "merged_df = pd.merge(ratings_df, api_df, left_on=\"primaryTitle\", right_on=\"Title\", how=\"inner\")\n",
    "merged_df.to_csv(\"Merged_unclean_dataset.csv\", index=False)\n",
    "# Save the unclean dataset to CSV"
   ]
  },
  {
   "cell_type": "code",
   "execution_count": 69,
   "metadata": {},
   "outputs": [
    {
     "data": {
      "text/html": [
       "<div>\n",
       "<style scoped>\n",
       "    .dataframe tbody tr th:only-of-type {\n",
       "        vertical-align: middle;\n",
       "    }\n",
       "\n",
       "    .dataframe tbody tr th {\n",
       "        vertical-align: top;\n",
       "    }\n",
       "\n",
       "    .dataframe thead th {\n",
       "        text-align: right;\n",
       "    }\n",
       "</style>\n",
       "<table border=\"1\" class=\"dataframe\">\n",
       "  <thead>\n",
       "    <tr style=\"text-align: right;\">\n",
       "      <th></th>\n",
       "      <th>tconst</th>\n",
       "      <th>primaryTitle</th>\n",
       "      <th>startYear</th>\n",
       "      <th>endYear</th>\n",
       "      <th>rank</th>\n",
       "      <th>averageRating</th>\n",
       "      <th>numVotes</th>\n",
       "      <th>directors</th>\n",
       "      <th>writers</th>\n",
       "      <th>genres</th>\n",
       "      <th>IMDbLink</th>\n",
       "      <th>Title_IMDb_Link</th>\n",
       "      <th>Title</th>\n",
       "      <th>Released</th>\n",
       "      <th>Genre</th>\n",
       "      <th>Runtime</th>\n",
       "      <th>imdbRating</th>\n",
       "      <th>imdbVotes</th>\n",
       "      <th>BoxOffice</th>\n",
       "    </tr>\n",
       "  </thead>\n",
       "  <tbody>\n",
       "    <tr>\n",
       "      <th>0</th>\n",
       "      <td>tt0903747</td>\n",
       "      <td>Breaking Bad</td>\n",
       "      <td>2008</td>\n",
       "      <td>2013.0</td>\n",
       "      <td>1</td>\n",
       "      <td>9.5</td>\n",
       "      <td>2337473</td>\n",
       "      <td>Michelle MacLaren, Adam Bernstein, Vince Gilli...</td>\n",
       "      <td>Vince Gilligan, Peter Gould, George Mastras, S...</td>\n",
       "      <td>Crime, Drama, Thriller</td>\n",
       "      <td>&lt;a href=\"https://www.imdb.com/title/tt0903747\"...</td>\n",
       "      <td>&lt;a href=\"https://www.imdb.com/title/tt0903747\"...</td>\n",
       "      <td>Breaking Bad</td>\n",
       "      <td>20 Jan 2008</td>\n",
       "      <td>Crime, Drama, Thriller</td>\n",
       "      <td>49 min</td>\n",
       "      <td>9.5</td>\n",
       "      <td>2,331,402</td>\n",
       "      <td>None</td>\n",
       "    </tr>\n",
       "    <tr>\n",
       "      <th>1</th>\n",
       "      <td>tt0185906</td>\n",
       "      <td>Band of Brothers</td>\n",
       "      <td>2001</td>\n",
       "      <td>2001.0</td>\n",
       "      <td>2</td>\n",
       "      <td>9.4</td>\n",
       "      <td>563157</td>\n",
       "      <td>David Frankel, Mikael Salomon, Tom Hanks, Davi...</td>\n",
       "      <td>Stephen Ambrose, Erik Bork, E. Max Frye, Tom H...</td>\n",
       "      <td>Action, Drama, History</td>\n",
       "      <td>&lt;a href=\"https://www.imdb.com/title/tt0185906\"...</td>\n",
       "      <td>&lt;a href=\"https://www.imdb.com/title/tt0185906\"...</td>\n",
       "      <td>Band of Brothers</td>\n",
       "      <td>09 Sep 2001</td>\n",
       "      <td>Action, Drama, History</td>\n",
       "      <td>594 min</td>\n",
       "      <td>9.4</td>\n",
       "      <td>561,613</td>\n",
       "      <td>None</td>\n",
       "    </tr>\n",
       "    <tr>\n",
       "      <th>2</th>\n",
       "      <td>tt7366338</td>\n",
       "      <td>Chernobyl</td>\n",
       "      <td>2019</td>\n",
       "      <td>2019.0</td>\n",
       "      <td>3</td>\n",
       "      <td>9.3</td>\n",
       "      <td>952320</td>\n",
       "      <td>Johan Renck</td>\n",
       "      <td>Craig Mazin</td>\n",
       "      <td>Drama, History, Thriller</td>\n",
       "      <td>&lt;a href=\"https://www.imdb.com/title/tt7366338\"...</td>\n",
       "      <td>&lt;a href=\"https://www.imdb.com/title/tt7366338\"...</td>\n",
       "      <td>Chernobyl</td>\n",
       "      <td>06 May 2019</td>\n",
       "      <td>Drama, History, Thriller</td>\n",
       "      <td>330 min</td>\n",
       "      <td>9.3</td>\n",
       "      <td>947,377</td>\n",
       "      <td>None</td>\n",
       "    </tr>\n",
       "    <tr>\n",
       "      <th>3</th>\n",
       "      <td>tt0795176</td>\n",
       "      <td>Planet Earth</td>\n",
       "      <td>2006</td>\n",
       "      <td>2006.0</td>\n",
       "      <td>4</td>\n",
       "      <td>9.4</td>\n",
       "      <td>227650</td>\n",
       "      <td>Alastair Fothergill, Mark Linfield</td>\n",
       "      <td>David Attenborough, Vanessa Berlowitz, Alastai...</td>\n",
       "      <td>Documentary, Family</td>\n",
       "      <td>&lt;a href=\"https://www.imdb.com/title/tt0795176\"...</td>\n",
       "      <td>&lt;a href=\"https://www.imdb.com/title/tt0795176\"...</td>\n",
       "      <td>Planet Earth</td>\n",
       "      <td>25 Mar 2007</td>\n",
       "      <td>Documentary, Family</td>\n",
       "      <td>538 min</td>\n",
       "      <td>9.4</td>\n",
       "      <td>227,238</td>\n",
       "      <td>None</td>\n",
       "    </tr>\n",
       "    <tr>\n",
       "      <th>4</th>\n",
       "      <td>tt5491994</td>\n",
       "      <td>Planet Earth II</td>\n",
       "      <td>2016</td>\n",
       "      <td>2016.0</td>\n",
       "      <td>5</td>\n",
       "      <td>9.4</td>\n",
       "      <td>166791</td>\n",
       "      <td>Justin Anderson, Ed Charles, Fredi Devas, Chad...</td>\n",
       "      <td>Elizabeth White</td>\n",
       "      <td>Documentary</td>\n",
       "      <td>&lt;a href=\"https://www.imdb.com/title/tt5491994\"...</td>\n",
       "      <td>&lt;a href=\"https://www.imdb.com/title/tt5491994\"...</td>\n",
       "      <td>Planet Earth II</td>\n",
       "      <td>18 Feb 2017</td>\n",
       "      <td>Documentary</td>\n",
       "      <td>298 min</td>\n",
       "      <td>9.4</td>\n",
       "      <td>166,497</td>\n",
       "      <td>None</td>\n",
       "    </tr>\n",
       "  </tbody>\n",
       "</table>\n",
       "</div>"
      ],
      "text/plain": [
       "      tconst      primaryTitle  startYear  endYear  rank  averageRating  \\\n",
       "0  tt0903747      Breaking Bad       2008   2013.0     1            9.5   \n",
       "1  tt0185906  Band of Brothers       2001   2001.0     2            9.4   \n",
       "2  tt7366338         Chernobyl       2019   2019.0     3            9.3   \n",
       "3  tt0795176      Planet Earth       2006   2006.0     4            9.4   \n",
       "4  tt5491994   Planet Earth II       2016   2016.0     5            9.4   \n",
       "\n",
       "   numVotes                                          directors  \\\n",
       "0   2337473  Michelle MacLaren, Adam Bernstein, Vince Gilli...   \n",
       "1    563157  David Frankel, Mikael Salomon, Tom Hanks, Davi...   \n",
       "2    952320                                        Johan Renck   \n",
       "3    227650                 Alastair Fothergill, Mark Linfield   \n",
       "4    166791  Justin Anderson, Ed Charles, Fredi Devas, Chad...   \n",
       "\n",
       "                                             writers  \\\n",
       "0  Vince Gilligan, Peter Gould, George Mastras, S...   \n",
       "1  Stephen Ambrose, Erik Bork, E. Max Frye, Tom H...   \n",
       "2                                        Craig Mazin   \n",
       "3  David Attenborough, Vanessa Berlowitz, Alastai...   \n",
       "4                                    Elizabeth White   \n",
       "\n",
       "                     genres  \\\n",
       "0    Crime, Drama, Thriller   \n",
       "1    Action, Drama, History   \n",
       "2  Drama, History, Thriller   \n",
       "3       Documentary, Family   \n",
       "4               Documentary   \n",
       "\n",
       "                                            IMDbLink  \\\n",
       "0  <a href=\"https://www.imdb.com/title/tt0903747\"...   \n",
       "1  <a href=\"https://www.imdb.com/title/tt0185906\"...   \n",
       "2  <a href=\"https://www.imdb.com/title/tt7366338\"...   \n",
       "3  <a href=\"https://www.imdb.com/title/tt0795176\"...   \n",
       "4  <a href=\"https://www.imdb.com/title/tt5491994\"...   \n",
       "\n",
       "                                     Title_IMDb_Link             Title  \\\n",
       "0  <a href=\"https://www.imdb.com/title/tt0903747\"...      Breaking Bad   \n",
       "1  <a href=\"https://www.imdb.com/title/tt0185906\"...  Band of Brothers   \n",
       "2  <a href=\"https://www.imdb.com/title/tt7366338\"...         Chernobyl   \n",
       "3  <a href=\"https://www.imdb.com/title/tt0795176\"...      Planet Earth   \n",
       "4  <a href=\"https://www.imdb.com/title/tt5491994\"...   Planet Earth II   \n",
       "\n",
       "      Released                     Genre  Runtime imdbRating  imdbVotes  \\\n",
       "0  20 Jan 2008    Crime, Drama, Thriller   49 min        9.5  2,331,402   \n",
       "1  09 Sep 2001    Action, Drama, History  594 min        9.4    561,613   \n",
       "2  06 May 2019  Drama, History, Thriller  330 min        9.3    947,377   \n",
       "3  25 Mar 2007       Documentary, Family  538 min        9.4    227,238   \n",
       "4  18 Feb 2017               Documentary  298 min        9.4    166,497   \n",
       "\n",
       "  BoxOffice  \n",
       "0      None  \n",
       "1      None  \n",
       "2      None  \n",
       "3      None  \n",
       "4      None  "
      ]
     },
     "execution_count": 69,
     "metadata": {},
     "output_type": "execute_result"
    }
   ],
   "source": [
    "merged_df.head()"
   ]
  },
  {
   "cell_type": "markdown",
   "metadata": {
    "id": "QwSWIVmotLgV"
   },
   "source": [
    "## 2. Assess data\n",
    "\n",
    "Assess the data according to data quality and tidiness metrics using the report below.\n",
    "\n",
    "List **two** data quality issues and **two** tidiness issues. Assess each data issue visually **and** programmatically, then briefly describe the issue you find.  **Make sure you include justifications for the methods you use for the assessment.**"
   ]
  },
  {
   "cell_type": "markdown",
   "metadata": {
    "id": "adaK2iPNzVu4"
   },
   "source": [
    "### Quality Issue 1:"
   ]
  },
  {
   "cell_type": "code",
   "execution_count": 70,
   "metadata": {
    "id": "SpW59kh-zl8d"
   },
   "outputs": [
    {
     "data": {
      "text/html": [
       "<div>\n",
       "<style scoped>\n",
       "    .dataframe tbody tr th:only-of-type {\n",
       "        vertical-align: middle;\n",
       "    }\n",
       "\n",
       "    .dataframe tbody tr th {\n",
       "        vertical-align: top;\n",
       "    }\n",
       "\n",
       "    .dataframe thead th {\n",
       "        text-align: right;\n",
       "    }\n",
       "</style>\n",
       "<table border=\"1\" class=\"dataframe\">\n",
       "  <thead>\n",
       "    <tr style=\"text-align: right;\">\n",
       "      <th></th>\n",
       "      <th>Title</th>\n",
       "      <th>BoxOffice</th>\n",
       "    </tr>\n",
       "  </thead>\n",
       "  <tbody>\n",
       "    <tr>\n",
       "      <th>234</th>\n",
       "      <td>Entourage</td>\n",
       "      <td>None</td>\n",
       "    </tr>\n",
       "    <tr>\n",
       "      <th>615</th>\n",
       "      <td>Content Cop</td>\n",
       "      <td>None</td>\n",
       "    </tr>\n",
       "    <tr>\n",
       "      <th>332</th>\n",
       "      <td>Veronica Mars</td>\n",
       "      <td>None</td>\n",
       "    </tr>\n",
       "    <tr>\n",
       "      <th>180</th>\n",
       "      <td>The Expanse</td>\n",
       "      <td>None</td>\n",
       "    </tr>\n",
       "    <tr>\n",
       "      <th>29</th>\n",
       "      <td>Batman: The Animated Series</td>\n",
       "      <td>None</td>\n",
       "    </tr>\n",
       "  </tbody>\n",
       "</table>\n",
       "</div>"
      ],
      "text/plain": [
       "                           Title BoxOffice\n",
       "234                    Entourage      None\n",
       "615                  Content Cop      None\n",
       "332                Veronica Mars      None\n",
       "180                  The Expanse      None\n",
       "29   Batman: The Animated Series      None"
      ]
     },
     "execution_count": 70,
     "metadata": {},
     "output_type": "execute_result"
    }
   ],
   "source": [
    "merged_df[['Title', 'BoxOffice']] .sample(5)\n"
   ]
  },
  {
   "cell_type": "code",
   "execution_count": 71,
   "metadata": {
    "id": "-qfcocStzsKg"
   },
   "outputs": [
    {
     "data": {
      "text/plain": [
       "0.9540581929555896"
      ]
     },
     "execution_count": 71,
     "metadata": {},
     "output_type": "execute_result"
    }
   ],
   "source": [
    "merged_df['BoxOffice'].isnull().mean()"
   ]
  },
  {
   "cell_type": "markdown",
   "metadata": {},
   "source": [
    "Issue and justification: *More than 95% of values in the BoxOffice column are missing. This severely limits its usability in analysis. The column was retained but excluded from modeling and visualizations to maintain data integrity , and might be deleted later *"
   ]
  },
  {
   "cell_type": "code",
   "execution_count": 72,
   "metadata": {},
   "outputs": [
    {
     "data": {
      "text/plain": [
       "118"
      ]
     },
     "execution_count": 72,
     "metadata": {},
     "output_type": "execute_result"
    }
   ],
   "source": [
    "merged_df['endYear'].isnull().sum()"
   ]
  },
  {
   "cell_type": "markdown",
   "metadata": {},
   "source": [
    "Some rows in the `endYear` column have missing values. This typically happens when the show is still ongoing and doesn't have an official end date. To maintain the column as numeric (float), we filled the missing `endYear` values with the corresponding `startYear` — assuming the show is still running since it started."
   ]
  },
  {
   "cell_type": "code",
   "execution_count": 96,
   "metadata": {},
   "outputs": [
    {
     "data": {
      "text/plain": [
       "90"
      ]
     },
     "execution_count": 96,
     "metadata": {},
     "output_type": "execute_result"
    }
   ],
   "source": [
    "merged_df['Runtime'].isnull().sum()\n"
   ]
  },
  {
   "cell_type": "markdown",
   "metadata": {},
   "source": [
    "\n",
    "We detected 90 missing values in the Runtime"
   ]
  },
  {
   "cell_type": "markdown",
   "metadata": {
    "id": "8Be77N4I1AmE"
   },
   "source": [
    "### Quality Issue 2:"
   ]
  },
  {
   "cell_type": "code",
   "execution_count": 73,
   "metadata": {
    "id": "iMhHyiyLM2I3"
   },
   "outputs": [
    {
     "data": {
      "text/plain": [
       "633    588 min\n",
       "18         N/A\n",
       "188     22 min\n",
       "84      60 min\n",
       "643     45 min\n",
       "149     11 min\n",
       "588     30 min\n",
       "176    30S min\n",
       "101     55 min\n",
       "255     58 min\n",
       "Name: Runtime, dtype: object"
      ]
     },
     "execution_count": 73,
     "metadata": {},
     "output_type": "execute_result"
    }
   ],
   "source": [
    " merged_df['Runtime'].sample(10)\n"
   ]
  },
  {
   "cell_type": "code",
   "execution_count": 74,
   "metadata": {
    "id": "bnviRCUI-bb7"
   },
   "outputs": [
    {
     "data": {
      "text/plain": [
       "Runtime\n",
       "N/A       90\n",
       "1 min     66\n",
       "60 min    47\n",
       "30 min    42\n",
       "22 min    37\n",
       "24 min    34\n",
       "45 min    33\n",
       "44 min    26\n",
       "2 min     21\n",
       "23 min    11\n",
       "Name: count, dtype: int64"
      ]
     },
     "execution_count": 74,
     "metadata": {},
     "output_type": "execute_result"
    }
   ],
   "source": [
    "merged_df['Runtime'].value_counts(dropna=False).head(10)\n"
   ]
  },
  {
   "cell_type": "markdown",
   "metadata": {},
   "source": [
    "Issue and justification: *The Runtime column contains inconsistent formats such as \"N/A\", \"30S min\", or strings with letters. This prevents numeric analysis. The column was cleaned by extracting numeric values and converting them to integers, allowing us to study show durations properly.*"
   ]
  },
  {
   "cell_type": "markdown",
   "metadata": {
    "id": "lXhGiYyiwwKN"
   },
   "source": [
    "### Tidiness Issue 1:"
   ]
  },
  {
   "cell_type": "code",
   "execution_count": 75,
   "metadata": {
    "id": "fleC5rORI0Xl"
   },
   "outputs": [
    {
     "data": {
      "text/html": [
       "<div>\n",
       "<style scoped>\n",
       "    .dataframe tbody tr th:only-of-type {\n",
       "        vertical-align: middle;\n",
       "    }\n",
       "\n",
       "    .dataframe tbody tr th {\n",
       "        vertical-align: top;\n",
       "    }\n",
       "\n",
       "    .dataframe thead th {\n",
       "        text-align: right;\n",
       "    }\n",
       "</style>\n",
       "<table border=\"1\" class=\"dataframe\">\n",
       "  <thead>\n",
       "    <tr style=\"text-align: right;\">\n",
       "      <th></th>\n",
       "      <th>primaryTitle</th>\n",
       "      <th>Title</th>\n",
       "    </tr>\n",
       "  </thead>\n",
       "  <tbody>\n",
       "    <tr>\n",
       "      <th>0</th>\n",
       "      <td>Breaking Bad</td>\n",
       "      <td>Breaking Bad</td>\n",
       "    </tr>\n",
       "    <tr>\n",
       "      <th>1</th>\n",
       "      <td>Band of Brothers</td>\n",
       "      <td>Band of Brothers</td>\n",
       "    </tr>\n",
       "    <tr>\n",
       "      <th>2</th>\n",
       "      <td>Chernobyl</td>\n",
       "      <td>Chernobyl</td>\n",
       "    </tr>\n",
       "    <tr>\n",
       "      <th>3</th>\n",
       "      <td>Planet Earth</td>\n",
       "      <td>Planet Earth</td>\n",
       "    </tr>\n",
       "    <tr>\n",
       "      <th>4</th>\n",
       "      <td>Planet Earth II</td>\n",
       "      <td>Planet Earth II</td>\n",
       "    </tr>\n",
       "  </tbody>\n",
       "</table>\n",
       "</div>"
      ],
      "text/plain": [
       "       primaryTitle             Title\n",
       "0      Breaking Bad      Breaking Bad\n",
       "1  Band of Brothers  Band of Brothers\n",
       "2         Chernobyl         Chernobyl\n",
       "3      Planet Earth      Planet Earth\n",
       "4   Planet Earth II   Planet Earth II"
      ]
     },
     "execution_count": 75,
     "metadata": {},
     "output_type": "execute_result"
    }
   ],
   "source": [
    "merged_df[[\"primaryTitle\", \"Title\"]].head()\n"
   ]
  },
  {
   "cell_type": "code",
   "execution_count": 76,
   "metadata": {
    "id": "BTuQw7Rbsio4"
   },
   "outputs": [
    {
     "data": {
      "text/plain": [
       "primaryTitle    581\n",
       "Title           581\n",
       "dtype: int64"
      ]
     },
     "execution_count": 76,
     "metadata": {},
     "output_type": "execute_result"
    }
   ],
   "source": [
    "merged_df[[\"primaryTitle\", \"Title\"]].nunique()\n"
   ]
  },
  {
   "cell_type": "markdown",
   "metadata": {},
   "source": [
    "Issue and justification: *There are two columns (primaryTitle from the IMDb dataset and Title from the OMDb API) that both represent the title of the TV show. This is a tidiness issue because they contain duplicate information and create redundancy. Keeping both is unnecessary and could lead to confusion or inconsistency in analysis. The solution is to drop one of them and keep only the more reliable or complete version.*"
   ]
  },
  {
   "cell_type": "markdown",
   "metadata": {
    "id": "4ffMoRGSwzYj"
   },
   "source": [
    "### Tidiness Issue 2: "
   ]
  },
  {
   "cell_type": "code",
   "execution_count": 77,
   "metadata": {
    "id": "XUpeoqokw5Qt"
   },
   "outputs": [
    {
     "data": {
      "text/html": [
       "<div>\n",
       "<style scoped>\n",
       "    .dataframe tbody tr th:only-of-type {\n",
       "        vertical-align: middle;\n",
       "    }\n",
       "\n",
       "    .dataframe tbody tr th {\n",
       "        vertical-align: top;\n",
       "    }\n",
       "\n",
       "    .dataframe thead th {\n",
       "        text-align: right;\n",
       "    }\n",
       "</style>\n",
       "<table border=\"1\" class=\"dataframe\">\n",
       "  <thead>\n",
       "    <tr style=\"text-align: right;\">\n",
       "      <th></th>\n",
       "      <th>averageRating</th>\n",
       "      <th>imdbRating</th>\n",
       "      <th>numVotes</th>\n",
       "      <th>imdbVotes</th>\n",
       "    </tr>\n",
       "  </thead>\n",
       "  <tbody>\n",
       "    <tr>\n",
       "      <th>0</th>\n",
       "      <td>9.5</td>\n",
       "      <td>9.5</td>\n",
       "      <td>2337473</td>\n",
       "      <td>2,331,402</td>\n",
       "    </tr>\n",
       "    <tr>\n",
       "      <th>1</th>\n",
       "      <td>9.4</td>\n",
       "      <td>9.4</td>\n",
       "      <td>563157</td>\n",
       "      <td>561,613</td>\n",
       "    </tr>\n",
       "    <tr>\n",
       "      <th>2</th>\n",
       "      <td>9.3</td>\n",
       "      <td>9.3</td>\n",
       "      <td>952320</td>\n",
       "      <td>947,377</td>\n",
       "    </tr>\n",
       "    <tr>\n",
       "      <th>3</th>\n",
       "      <td>9.4</td>\n",
       "      <td>9.4</td>\n",
       "      <td>227650</td>\n",
       "      <td>227,238</td>\n",
       "    </tr>\n",
       "    <tr>\n",
       "      <th>4</th>\n",
       "      <td>9.4</td>\n",
       "      <td>9.4</td>\n",
       "      <td>166791</td>\n",
       "      <td>166,497</td>\n",
       "    </tr>\n",
       "  </tbody>\n",
       "</table>\n",
       "</div>"
      ],
      "text/plain": [
       "   averageRating imdbRating  numVotes  imdbVotes\n",
       "0            9.5        9.5   2337473  2,331,402\n",
       "1            9.4        9.4    563157    561,613\n",
       "2            9.3        9.3    952320    947,377\n",
       "3            9.4        9.4    227650    227,238\n",
       "4            9.4        9.4    166791    166,497"
      ]
     },
     "execution_count": 77,
     "metadata": {},
     "output_type": "execute_result"
    }
   ],
   "source": [
    "merged_df[[\"averageRating\", \"imdbRating\", \"numVotes\", \"imdbVotes\"]].head()\n"
   ]
  },
  {
   "cell_type": "code",
   "execution_count": 78,
   "metadata": {
    "id": "c8JK4DoXxtFA"
   },
   "outputs": [
    {
     "data": {
      "text/html": [
       "<div>\n",
       "<style scoped>\n",
       "    .dataframe tbody tr th:only-of-type {\n",
       "        vertical-align: middle;\n",
       "    }\n",
       "\n",
       "    .dataframe tbody tr th {\n",
       "        vertical-align: top;\n",
       "    }\n",
       "\n",
       "    .dataframe thead th {\n",
       "        text-align: right;\n",
       "    }\n",
       "</style>\n",
       "<table border=\"1\" class=\"dataframe\">\n",
       "  <thead>\n",
       "    <tr style=\"text-align: right;\">\n",
       "      <th></th>\n",
       "      <th>averageRating</th>\n",
       "      <th>imdbRating</th>\n",
       "    </tr>\n",
       "  </thead>\n",
       "  <tbody>\n",
       "    <tr>\n",
       "      <th>averageRating</th>\n",
       "      <td>1.000000</td>\n",
       "      <td>0.543314</td>\n",
       "    </tr>\n",
       "    <tr>\n",
       "      <th>imdbRating</th>\n",
       "      <td>0.543314</td>\n",
       "      <td>1.000000</td>\n",
       "    </tr>\n",
       "  </tbody>\n",
       "</table>\n",
       "</div>"
      ],
      "text/plain": [
       "               averageRating  imdbRating\n",
       "averageRating       1.000000    0.543314\n",
       "imdbRating          0.543314    1.000000"
      ]
     },
     "execution_count": 78,
     "metadata": {},
     "output_type": "execute_result"
    }
   ],
   "source": [
    "merged_df[[\"averageRating\", \"imdbRating\"]].corr()\n"
   ]
  },
  {
   "cell_type": "markdown",
   "metadata": {},
   "source": [
    "There are two columns for rating (`averageRating` from IMDb and `imdbRating` from OMDb API), and two for votes (`numVotes` and `imdbVotes`), representing the same concepts from different sources. This violates the tidy data principle of \"one variable per column\". While the correlation between `averageRating` and `imdbRating` is moderate (r = 0.51), keeping both columns may lead to redundancy or inconsistency. The solution is to evaluate which source is more reliable or complete, and retain only one rating and one votes column for clarity and simplicity.\n"
   ]
  },
  {
   "cell_type": "markdown",
   "metadata": {
    "id": "D6gmLnBttpCh"
   },
   "source": [
    "## 3. Clean data\n",
    "Clean the data to solve the 4 issues corresponding to data quality and tidiness found in the assessing step. **Make sure you include justifications for your cleaning decisions.**\n",
    "\n",
    "After the cleaning for each issue, please use **either** the visually or programatical method to validate the cleaning was succesful.\n",
    "\n",
    "At this stage, you are also expected to remove variables that are unnecessary for your analysis and combine your datasets. Depending on your datasets, you may choose to perform variable combination and elimination before or after the cleaning stage. Your dataset must have **at least** 4 variables after combining the data."
   ]
  },
  {
   "cell_type": "code",
   "execution_count": 79,
   "metadata": {},
   "outputs": [],
   "source": [
    "\n",
    "ratings_df_raw = ratings_df.copy()\n"
   ]
  },
  {
   "cell_type": "markdown",
   "metadata": {
    "id": "FmFhN52Yyn3l"
   },
   "source": [
    "### **Quality Issue 1: FILL IN**"
   ]
  },
  {
   "cell_type": "code",
   "execution_count": 80,
   "metadata": {
    "id": "9UejDWrNMW4a"
   },
   "outputs": [],
   "source": [
    "merged_df.drop(columns=[\"BoxOffice\"], inplace=True)\n"
   ]
  },
  {
   "cell_type": "code",
   "execution_count": 81,
   "metadata": {
    "id": "oUBee-LPytkv"
   },
   "outputs": [
    {
     "data": {
      "text/plain": [
       "False"
      ]
     },
     "execution_count": 81,
     "metadata": {},
     "output_type": "execute_result"
    }
   ],
   "source": [
    "\"BoxOffice\" in merged_df.columns\n"
   ]
  },
  {
   "cell_type": "markdown",
   "metadata": {},
   "source": [
    "Justification: We removed the `BoxOffice` column because more than 95% of its values were missing. The column lacked sufficient data to support meaningful analysis or modeling. To preserve data quality and avoid introducing noise, we dropped it entirely from the dataset. After removal, we validated that the column no longer exists in the DataFrame.\n"
   ]
  },
  {
   "cell_type": "code",
   "execution_count": 82,
   "metadata": {},
   "outputs": [],
   "source": [
    "merged_df['endYear'] = merged_df['endYear'].fillna(merged_df['startYear'])"
   ]
  },
  {
   "cell_type": "code",
   "execution_count": 83,
   "metadata": {},
   "outputs": [
    {
     "data": {
      "text/plain": [
       "0"
      ]
     },
     "execution_count": 83,
     "metadata": {},
     "output_type": "execute_result"
    }
   ],
   "source": [
    "# Validate\n",
    "merged_df['endYear'].isnull().sum()"
   ]
  },
  {
   "cell_type": "markdown",
   "metadata": {},
   "source": [
    "Justification:\n",
    "We filled missing endYear values with startYear to preserve the column as numeric and avoid dropping potentially valuable records. This approach assumes that shows without an end year are still ongoing."
   ]
  },
  {
   "cell_type": "code",
   "execution_count": 98,
   "metadata": {},
   "outputs": [],
   "source": [
    "median_runtime = merged_df['Runtime'].median()\n",
    "merged_df['Runtime'] = merged_df['Runtime'].fillna(median_runtime)\n"
   ]
  },
  {
   "cell_type": "markdown",
   "metadata": {},
   "source": [
    "Justification:\n",
    "Using the median is a robust way to handle missing numeric data, especially when the column may contain outliers (like long episodes or films). This preserves the distribution and enables accurate analysis."
   ]
  },
  {
   "cell_type": "markdown",
   "metadata": {
    "id": "n_DAUbJrymBL"
   },
   "source": [
    "### **Quality Issue 2: FILL IN**"
   ]
  },
  {
   "cell_type": "code",
   "execution_count": 92,
   "metadata": {
    "id": "5Yfb-Yu5MTuE"
   },
   "outputs": [],
   "source": [
    "merged_df['Runtime'] = merged_df['Runtime'].astype(str)\n",
    "merged_df['Runtime'] = merged_df['Runtime'].str.extract(r'(\\d+)')  \n",
    "merged_df['Runtime'] = pd.to_numeric(merged_df['Runtime'], errors='coerce')\n"
   ]
  },
  {
   "cell_type": "code",
   "execution_count": 94,
   "metadata": {
    "id": "ionB2sRaMUmY"
   },
   "outputs": [
    {
     "name": "stdout",
     "output_type": "stream",
     "text": [
      "float64\n"
     ]
    },
    {
     "data": {
      "text/plain": [
       "0     49.0\n",
       "1    594.0\n",
       "2    330.0\n",
       "3    538.0\n",
       "4    298.0\n",
       "5     57.0\n",
       "6     55.0\n",
       "7     23.0\n",
       "8     59.0\n",
       "9     23.0\n",
       "Name: Runtime, dtype: float64"
      ]
     },
     "execution_count": 94,
     "metadata": {},
     "output_type": "execute_result"
    }
   ],
   "source": [
    "print(merged_df['Runtime'].dtype)\n",
    "merged_df['Runtime'].head(10)\n"
   ]
  },
  {
   "cell_type": "markdown",
   "metadata": {},
   "source": [
    "Column: Runtime\n",
    "Problem Detected:\n",
    "The Runtime column contained inconsistent string formats (e.g., '30 min', 'N/A', '305 mins') and was stored as object dtype.\n",
    "\n",
    "Cleaning Action:\n",
    "We extracted only numeric values and converted the column to float format to allow for numerical analysis."
   ]
  },
  {
   "cell_type": "markdown",
   "metadata": {
    "id": "bIUrrfSNyOPR"
   },
   "source": [
    "### **Tidiness Issue 1: FILL IN**"
   ]
  },
  {
   "cell_type": "code",
   "execution_count": 100,
   "metadata": {
    "id": "fib0zAm333bn"
   },
   "outputs": [],
   "source": [
    "merged_df.drop(columns=[\"Title\"], inplace=True)\n"
   ]
  },
  {
   "cell_type": "code",
   "execution_count": 101,
   "metadata": {
    "id": "yhrnUGY_Nk8B"
   },
   "outputs": [
    {
     "data": {
      "text/plain": [
       "False"
      ]
     },
     "execution_count": 101,
     "metadata": {},
     "output_type": "execute_result"
    }
   ],
   "source": [
    "\"Title\" in merged_df.columns \n"
   ]
  },
  {
   "cell_type": "markdown",
   "metadata": {},
   "source": [
    "Justification: *The primaryTitle and Title columns both represent the show's name but come from different sources. Keeping both creates redundancy. We retained the more reliable one (primaryTitle) and dropped the duplicate.*"
   ]
  },
  {
   "cell_type": "markdown",
   "metadata": {
    "id": "o51Bt8kwyTzk"
   },
   "source": [
    "### **Tidiness Issue 2: FILL IN**"
   ]
  },
  {
   "cell_type": "code",
   "execution_count": 102,
   "metadata": {
    "id": "7zW8O5yx4Y9O"
   },
   "outputs": [],
   "source": [
    "merged_df.drop(columns=[\"imdbRating\", \"imdbVotes\"], inplace=True)\n"
   ]
  },
  {
   "cell_type": "code",
   "execution_count": 103,
   "metadata": {
    "id": "q6I_Sr7lxXi5"
   },
   "outputs": [
    {
     "data": {
      "text/plain": [
       "[False, False]"
      ]
     },
     "execution_count": 103,
     "metadata": {},
     "output_type": "execute_result"
    }
   ],
   "source": [
    "[\"imdbRating\" in merged_df.columns, \"imdbVotes\" in merged_df.columns]\n"
   ]
  },
  {
   "cell_type": "markdown",
   "metadata": {},
   "source": [
    "Justification: *The columns imdbRating and imdbVotes were duplicated from another dataset. Their counterparts averageRating and numVotes are already used in the merged dataset. To avoid confusion and redundancy, we removed the duplicates.*"
   ]
  },
  {
   "cell_type": "markdown",
   "metadata": {},
   "source": [
    "### **Remove unnecessary variables and combine datasets**\n",
    "\n",
    "Depending on the datasets, you can also peform the combination before the cleaning steps."
   ]
  },
  {
   "cell_type": "code",
   "execution_count": 104,
   "metadata": {},
   "outputs": [],
   "source": [
    "merged_df.drop(columns=[\"Title_IMDb_Link\", \"IMDbLink\", \"writers\", \"directors\", \"Released\"], inplace=True, errors='ignore')\n"
   ]
  },
  {
   "cell_type": "code",
   "execution_count": 105,
   "metadata": {},
   "outputs": [
    {
     "name": "stdout",
     "output_type": "stream",
     "text": [
      "<class 'pandas.core.frame.DataFrame'>\n",
      "RangeIndex: 653 entries, 0 to 652\n",
      "Data columns (total 10 columns):\n",
      " #   Column         Non-Null Count  Dtype  \n",
      "---  ------         --------------  -----  \n",
      " 0   tconst         653 non-null    object \n",
      " 1   primaryTitle   653 non-null    object \n",
      " 2   startYear      653 non-null    int64  \n",
      " 3   endYear        653 non-null    float64\n",
      " 4   rank           653 non-null    int64  \n",
      " 5   averageRating  653 non-null    float64\n",
      " 6   numVotes       653 non-null    int64  \n",
      " 7   genres         653 non-null    object \n",
      " 8   Genre          653 non-null    object \n",
      " 9   Runtime        653 non-null    float64\n",
      "dtypes: float64(3), int64(3), object(4)\n",
      "memory usage: 51.1+ KB\n"
     ]
    }
   ],
   "source": [
    "merged_df.info()"
   ]
  },
  {
   "cell_type": "markdown",
   "metadata": {
    "id": "F42urHuzttjF"
   },
   "source": [
    "## 4. Update your data store\n",
    "Update your local database/data store with the cleaned data, following best practices for storing your cleaned data:\n",
    "\n",
    "- Must maintain different instances / versions of data (raw and cleaned data)\n",
    "- Must name the dataset files informatively\n",
    "- Ensure both the raw and cleaned data is saved to your database/data store"
   ]
  },
  {
   "cell_type": "code",
   "execution_count": 106,
   "metadata": {},
   "outputs": [],
   "source": [
    "# Save the clean dataset to CSV\n",
    "merged_df.to_csv(\"merged_Clean_dataset.csv\", index=False)"
   ]
  },
  {
   "cell_type": "markdown",
   "metadata": {
    "id": "cGy_yddGtzhM"
   },
   "source": [
    "## 5. Answer the research question\n",
    "\n",
    "### **5.1:** Define and answer the research question \n",
    "Going back to the problem statement in step 1, use the cleaned data to answer the question you raised. Produce **at least** two visualizations using the cleaned data and explain how they help you answer the question."
   ]
  },
  {
   "cell_type": "markdown",
   "metadata": {
    "id": "gjedE4s4ZkEd"
   },
   "source": [
    "## What factors are most associated with high IMDb ratings among the top 5000 TV shows"
   ]
  },
  {
   "cell_type": "code",
   "execution_count": 107,
   "metadata": {
    "id": "Lkw3rW9kZmOm"
   },
   "outputs": [
    {
     "data": {
      "image/png": "[encoded data removed]",
      "text/plain": [
       "<Figure size 1000x600 with 1 Axes>"
      ]
     },
     "metadata": {},
     "output_type": "display_data"
    }
   ],
   "source": [
    "merged_df = pd.read_csv(r\"merged_Clean_output.csv\")\n",
    "\n",
    "genre_avg_rating = merged_df.groupby(\"Genre\")[\"averageRating\"].mean().sort_values(ascending=False).head(10)\n",
    "\n",
    "plt.figure(figsize=(10,6))\n",
    "sns.barplot(x=genre_avg_rating.values, y=genre_avg_rating.index, color='skyblue')\n",
    "plt.title(\"Top 10 Genres by Average IMDb Rating\", fontsize=14)\n",
    "plt.xlabel(\"Average IMDb Rating\")\n",
    "plt.ylabel(\"Genre\")\n",
    "plt.grid(axis='x', linestyle='--', alpha=0.5)\n",
    "plt.tight_layout()\n",
    "plt.show()\n"
   ]
  },
  {
   "cell_type": "markdown",
   "metadata": {},
   "source": [
    "### Answer to Research Question\n",
    "What factors are most associated with high IMDb ratings among the top 5000 TV shows?\n",
    "\n",
    "The analysis reveals that certain genres are consistently associated with higher IMDb ratings. Specifically, genres that include Documentary, Family, History, and Drama elements appear most frequently among the top-rated shows. These genres likely benefit from strong storytelling, emotional engagement, and educational value, which contribute to higher viewer appreciation.\n",
    "\n",
    "In particular, combinations like \"Documentary, Family\" and \"Drama, History, Romance\" show some of the highest average ratings, often above 8.5. This suggests that content which is informative, emotionally resonant, or culturally rich tends to receive better audience evaluations.\n",
    "\n",
    "Thus, genre composition is a key factor associated with high IMDb ratings in this dataset."
   ]
  },
  {
   "cell_type": "markdown",
   "metadata": {},
   "source": [
    "## How is the runtime of TV shows distributed among the top-rated titles, and does longer runtime correlate with higher quality content?"
   ]
  },
  {
   "cell_type": "code",
   "execution_count": 108,
   "metadata": {
    "id": "6fdK_8ZGZm9R"
   },
   "outputs": [
    {
     "data": {
      "image/png": "[encoded data removed]",
      "text/plain": [
       "<Figure size 1000x600 with 1 Axes>"
      ]
     },
     "metadata": {},
     "output_type": "display_data"
    }
   ],
   "source": [
    "plt.figure(figsize=(10,6))\n",
    "sns.histplot(data=merged_df, x=\"Runtime\", bins=30, kde=True, color=\"skyblue\")\n",
    "plt.title(\"Distribution of Show Runtime (minutes)\", fontsize=14)\n",
    "plt.xlabel(\"Runtime (minutes)\")\n",
    "plt.ylabel(\"Count\")\n",
    "plt.grid(axis='y', linestyle='--', alpha=0.5)\n",
    "plt.tight_layout()\n",
    "plt.show()\n"
   ]
  },
  {
   "cell_type": "markdown",
   "metadata": {
    "id": "K5RgvMGUZoHn"
   },
   "source": [
    "## Answer to research question:\n",
    "\n",
    "The distribution of TV show runtimes is heavily right-skewed, with most shows having a runtime between **30 and 100 minutes**. A small number of shows have exceptionally long runtimes (above 300 minutes), which may indicate limited series, documentaries, or full-season compilations.\n",
    "\n",
    "This suggests that **short-to-moderate runtimes are far more common** among the top-rated shows. While the plot does not directly link runtime with quality (IMDb rating), it shows that **extremely long runtimes are rare**, and the majority of high-quality content falls within a manageable duration, likely improving viewer engagement and accessibility.\n",
    "\n",
    "Further analysis would be required to directly assess the correlation between runtime and IMDb ratings.\n"
   ]
  },
  {
   "cell_type": "markdown",
   "metadata": {},
   "source": [
    "## Does a higher number of votes correspond to higher IMDb ratings for top TV shows?"
   ]
  },
  {
   "cell_type": "code",
   "execution_count": 109,
   "metadata": {},
   "outputs": [
    {
     "data": {
      "image/png": "[encoded data removed]",
      "text/plain": [
       "<Figure size 1000x600 with 1 Axes>"
      ]
     },
     "metadata": {},
     "output_type": "display_data"
    }
   ],
   "source": [
    "plt.figure(figsize=(10,6))\n",
    "sns.scatterplot(data=merged_df, x=\"numVotes\", y=\"averageRating\", alpha=0.6)\n",
    "plt.title(\"Relationship Between Number of Votes and IMDb Rating\")\n",
    "plt.xlabel(\"Number of Votes\")\n",
    "plt.ylabel(\"IMDb Rating\")\n",
    "plt.xscale(\"log\")  \n",
    "plt.grid(True, linestyle=\"--\", alpha=0.4)\n",
    "plt.tight_layout()\n",
    "plt.show()\n"
   ]
  },
  {
   "cell_type": "markdown",
   "metadata": {},
   "source": [
    "### Answer to research question:\n",
    "\n",
    "The scatter plot shows that while some of the most popular TV shows (with millions of votes) tend to have high IMDb ratings, the overall correlation between number of votes and IMDb rating is **weak to moderate**.\n",
    "\n",
    "Most shows cluster around an IMDb rating of **8.2 to 8.7**, regardless of the number of votes. However, we do observe that **extremely high-rated shows often receive a large number of votes**, which may reflect their wide popularity and critical acclaim.\n",
    "\n",
    "The log scale on the x-axis helps to visualize the wide range of vote counts, showing that **ratings remain relatively stable across different vote levels**, though the **most-voted shows generally avoid low ratings**.\n",
    "\n",
    "In conclusion, while vote count can reflect a show's popularity, it doesn't necessarily guarantee a higher rating, but highly rated shows are usually widely seen and voted on.\n"
   ]
  },
  {
   "cell_type": "markdown",
   "metadata": {
    "id": "0ezWXXZVj-TP"
   },
   "source": [
    "### **5.2:** Reflection\n",
    "In 2-4 sentences, if you had more time to complete the project, what actions would you take? For example, which data quality and structural issues would you look into further, and what research questions would you further explore?"
   ]
  },
  {
   "cell_type": "markdown",
   "metadata": {
    "id": "XB3RBDG5kFe1"
   },
   "source": [
    "## If I had more time, I would focus on improving data quality by handling inconsistencies in genre labeling and further investigating outliers in runtime values. I would also explore feature interactions more deeply—especially how specific genre combinations influence ratings—by applying one-hot encoding and dimensionality reduction techniques. Additionally, I would build a regression or machine learning model to predict IMDb ratings based on votes, runtime, and genre, and evaluate feature importance to understand what drives high ratings. This would help uncover deeper insights into what makes a show successful."
   ]
  },
  {
   "cell_type": "code",
   "execution_count": null,
   "metadata": {},
   "outputs": [],
   "source": []
  }
 ],
 "metadata": {
  "colab": {
   "provenance": []
  },
  "kernelspec": {
   "display_name": "Python [conda env:base] *",
   "language": "python",
   "name": "conda-base-py"
  },
  "language_info": {
   "codemirror_mode": {
    "name": "ipython",
    "version": 3
   },
   "file_extension": ".py",
   "mimetype": "text/x-python",
   "name": "python",
   "nbconvert_exporter": "python",
   "pygments_lexer": "ipython3",
   "version": "3.12.7"
  }
 },
 "nbformat": 4,
 "nbformat_minor": 4
}
